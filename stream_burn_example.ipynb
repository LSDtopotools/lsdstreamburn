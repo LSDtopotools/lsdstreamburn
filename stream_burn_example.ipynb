{
 "cells": [
  {
   "cell_type": "code",
   "execution_count": null,
   "metadata": {},
   "outputs": [],
   "source": [
    "import lsdstreamburn.lsdstreamburn as sb"
   ]
  },
  {
   "cell_type": "markdown",
   "metadata": {},
   "source": [
    "# Get a DEM \n",
    "\n",
    "Register your OpenTopography account and request an API key on its website. Copy the website, and paste the key into a txt file named **my_OT_api_key.txt** saved in the local device."
   ]
  },
  {
   "cell_type": "code",
   "execution_count": null,
   "metadata": {},
   "outputs": [],
   "source": [
    "my_dem = sb.get_dem(OT_api_key_fname=\"my_OT_api_key.txt\", \n",
    "                    source=\"COP30\", \n",
    "                    lower_left=[-16.88,-65.76],\n",
    "                    upper_right = [-16.50,-65.37],\n",
    "                    prefix = \"Bolivia\")\n",
    "\n",
    "print(my_dem)"
   ]
  },
  {
   "cell_type": "markdown",
   "metadata": {},
   "source": [
    "# Stream burn \n",
    "Define burn depth by changing the value of **WATER_DEPTH** and **SEDI_DEPTH**. "
   ]
  },
  {
   "cell_type": "code",
   "execution_count": null,
   "metadata": {},
   "outputs": [],
   "source": [
    "# Define burn depths of water and sediment pixels\n",
    "WATER_DEPTH = 40\n",
    "SEDI_DEPTH = 15\n",
    "\n",
    "# Use the DEM file generated from last cell\n",
    "DEM_FNAME = 'Bolivia_COP30.tif'\n",
    "\n",
    "# This channel mask comes from land cover classification on GEE\n",
    "# Or you can use the provided example 'Bolivia2020_example_ClassMap.tif'\n",
    "CHANNEL_MASK_FNAME = 'Bolivia2020_example_ClassMap.tif' \n",
    "\n",
    "# Define a prefix for the file name of generated river network\n",
    "LOCATION_YEAR = 'Bolivia2020'  "
   ]
  },
  {
   "cell_type": "code",
   "execution_count": null,
   "metadata": {},
   "outputs": [],
   "source": [
    "burned_dem_path = sb.burning_driver(DataDirectory = \"./\", \n",
    "                   dem_fname=DEM_FNAME, \n",
    "                   channel_mask_fname=CHANNEL_MASK_FNAME,\n",
    "                   location_year = LOCATION_YEAR, \n",
    "                   burn_water_depth=WATER_DEPTH,\n",
    "                   burn_sediment_depth=SEDI_DEPTH,\n",
    "                   area_thresh=15000)\n",
    "\n",
    "print(burned_dem_path)"
   ]
  },
  {
   "cell_type": "markdown",
   "metadata": {},
   "source": [
    "After running last cell, the extracted river network is stored in an csv file. "
   ]
  },
  {
   "cell_type": "markdown",
   "metadata": {},
   "source": [
    "# Plot the network on a burned DEM "
   ]
  },
  {
   "cell_type": "code",
   "execution_count": null,
   "metadata": {},
   "outputs": [],
   "source": [
    "burned_dem_prefix = burned_dem_path.split('/')[-1].split('.')[0] + '_UTM'\n",
    "\n",
    "sb.plot_network(DataDirectory=\"./burned_dem/\", DEM_prefix=burned_dem_prefix)"
   ]
  },
  {
   "cell_type": "code",
   "execution_count": null,
   "metadata": {},
   "outputs": [],
   "source": [
    "from IPython.display import Image\n",
    "Image(filename='./burned_dem/Bolivia2020_COP30_Burned40m15m_UTM_channels_with_basins.png') "
   ]
  }
 ],
 "metadata": {
  "kernelspec": {
   "display_name": "mystreamburn",
   "language": "python",
   "name": "python3"
  },
  "language_info": {
   "codemirror_mode": {
    "name": "ipython",
    "version": 3
   },
   "file_extension": ".py",
   "mimetype": "text/x-python",
   "name": "python",
   "nbconvert_exporter": "python",
   "pygments_lexer": "ipython3",
   "version": "3.9.18"
  }
 },
 "nbformat": 4,
 "nbformat_minor": 2
}
